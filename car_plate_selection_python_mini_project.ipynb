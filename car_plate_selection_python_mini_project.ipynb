{
  "nbformat": 4,
  "nbformat_minor": 0,
  "metadata": {
    "colab": {
      "provenance": [],
      "authorship_tag": "ABX9TyNck7vzYZfqX/ySjXVu1w0h",
      "include_colab_link": true
    },
    "kernelspec": {
      "name": "python3",
      "display_name": "Python 3"
    },
    "language_info": {
      "name": "python"
    }
  },
  "cells": [
    {
      "cell_type": "markdown",
      "metadata": {
        "id": "view-in-github",
        "colab_type": "text"
      },
      "source": [
        "<a href=\"https://colab.research.google.com/github/irythmgarg/car_plate_selection_python_mini_project/blob/main/car_plate_selection_python_mini_project.ipynb\" target=\"_parent\"><img src=\"https://colab.research.google.com/assets/colab-badge.svg\" alt=\"Open In Colab\"/></a>"
      ]
    },
    {
      "cell_type": "code",
      "execution_count": 7,
      "metadata": {
        "colab": {
          "base_uri": "https://localhost:8080/"
        },
        "id": "89qRxm0TdYu5",
        "outputId": "2832f330-3613-4d7a-ab64-022b65b25624"
      },
      "outputs": [
        {
          "output_type": "stream",
          "name": "stdout",
          "text": [
            "please enter day on which you want the list of cars to be passed (SUN/MON/TUE/WED/THU/FRI/SAT) MON\n",
            "list of passed cars is  ['AB1234', 'BC2344', 'PO4568', 'EP7010', 'KD4052']\n",
            "list of passed cars is  ['HB1563', 'OJ1469', 'RS5979', 'GT3451']\n"
          ]
        }
      ],
      "source": [
        "#The program takes each of the car license plate numbers from a list. Then it checks the last digit of the numbers to see if it is even or odd.\n",
        "# Even numbered plates can use the road on some days of a week,\n",
        "# while odd numbered plates can use the road on other days of a week.\n",
        "\n",
        "car_plates=['AB1234','BC2344','HB1563','OJ1469','RS5979','GT3451','PO4568','EP7010','KD4052'];# list of car numbers\n",
        "passed_list=[];# list of passing cars\n",
        "failed_list=[];#list of failing cars\n",
        "even_day_list=['MON','WED','FRI'];\n",
        "odd_day_list=['TUE','THU','SAT'];\n",
        "day=input(\"please enter day on which you want the list of cars to be passed (SUN/MON/TUE/WED/THU/FRI/SAT) \");\n",
        "for plates in car_plates:\n",
        "  enddigit=int(plates[-1]);\n",
        "  if day=='SUN':  # on sunday all cars can pass\n",
        "      passed_list.append(plates);\n",
        "  elif enddigit%2==0:\n",
        "    if day in even_day_list: # it is a even day and number is also even\n",
        "      passed_list.append(plates);\n",
        "    else:\n",
        "      failed_list.append(plates); # it is a odd day and but number is even\n",
        "  elif enddigit%2==1:\n",
        "    if day in odd_day_list:\n",
        "      passed_list.append(plates);# it is a odd day and number is also odd\n",
        "    else:\n",
        "      failed_list.append(plates);# it is a even day and but number is odd\n",
        "print(\"list of passed cars is \",passed_list); # list of passing cars\n",
        "print(\"list of passed cars is \",failed_list);#list of failing cars"
      ]
    }
  ]
}